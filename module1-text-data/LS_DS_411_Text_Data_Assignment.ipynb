{
 "cells": [
  {
   "cell_type": "markdown",
   "metadata": {},
   "source": [
    "<img align=\"left\" src=\"https://lever-client-logos.s3.amazonaws.com/864372b1-534c-480e-acd5-9711f850815c-1524247202159.png\" width=200>\n",
    "<br></br>\n",
    "<br></br>\n",
    "\n",
    "# Natural Language Processing (NLP)\n",
    "## *Data Science Unit 4 Sprint 1 Assignment 1*\n",
    "\n",
    "Your goal in this assignment: find the attributes of the best & worst coffee shops in the dataset. The text is fairly raw: dates in the review, extra words in the `star_rating` column, etc. You'll probably want to clean that stuff up for a better analysis. \n",
    "\n",
    "Analyze the corpus of text using text visualizations of token frequency. Try cleaning the data as much as possible. Try the following techniques: \n",
    "- Lemmatization\n",
    "- Custom stopword removal\n",
    "\n",
    "Keep in mind the attributes of good tokens. Once you have a solid baseline, layer in the star rating in your visualization(s). Key part of this assignment - produce a write-up of the attributes of the best and worst coffee shops. Based on your analysis, what makes the best the best and the worst the worst. Use graphs and numbesr from your analysis to support your conclusions. There should be plenty of markdown cells! :coffee:"
   ]
  },
  {
   "cell_type": "code",
   "execution_count": 4,
   "metadata": {},
   "outputs": [
    {
     "output_type": "execute_result",
     "data": {
      "text/plain": "<IPython.lib.display.YouTubeVideo at 0x7f489ae638b0>",
      "text/html": "\n        <iframe\n            width=\"400\"\n            height=\"300\"\n            src=\"https://www.youtube.com/embed/Jml7NVYm8cs\"\n            frameborder=\"0\"\n            allowfullscreen\n        ></iframe>\n        ",
      "image/jpeg": "[encoded data removed]"
     },
     "metadata": {},
     "execution_count": 4
    }
   ],
   "source": [
    "from IPython.display import YouTubeVideo\n",
    "\n",
    "YouTubeVideo('Jml7NVYm8cs')"
   ]
  },
  {
   "cell_type": "code",
   "execution_count": 6,
   "metadata": {},
   "outputs": [
    {
     "output_type": "execute_result",
     "data": {
      "text/plain": "'/tmp/3f9a627c-e418-435d-af53-844416ee1372'"
     },
     "metadata": {},
     "execution_count": 6
    }
   ],
   "source": [
    "%pwd"
   ]
  },
  {
   "cell_type": "code",
   "execution_count": 7,
   "metadata": {},
   "outputs": [
    {
     "output_type": "execute_result",
     "data": {
      "text/plain": "                  coffee_shop_name  \\\n0  The Factory - Cafe With a Soul    \n1  The Factory - Cafe With a Soul    \n2  The Factory - Cafe With a Soul    \n3  The Factory - Cafe With a Soul    \n4  The Factory - Cafe With a Soul    \n\n                                    full_review_text        star_rating  \n0   11/25/2016 1 check-in Love love loved the atm...   5.0 star rating   \n1   12/2/2016 Listed in Date Night: Austin, Ambia...   4.0 star rating   \n2   11/30/2016 1 check-in Listed in Brunch Spots ...   4.0 star rating   \n3   11/25/2016 Very cool decor! Good drinks Nice ...   2.0 star rating   \n4   12/3/2016 1 check-in They are located within ...   4.0 star rating   ",
      "text/html": "<div>\n<style scoped>\n    .dataframe tbody tr th:only-of-type {\n        vertical-align: middle;\n    }\n\n    .dataframe tbody tr th {\n        vertical-align: top;\n    }\n\n    .dataframe thead th {\n        text-align: right;\n    }\n</style>\n<table border=\"1\" class=\"dataframe\">\n  <thead>\n    <tr style=\"text-align: right;\">\n      <th></th>\n      <th>coffee_shop_name</th>\n      <th>full_review_text</th>\n      <th>star_rating</th>\n    </tr>\n  </thead>\n  <tbody>\n    <tr>\n      <th>0</th>\n      <td>The Factory - Cafe With a Soul</td>\n      <td>11/25/2016 1 check-in Love love loved the atm...</td>\n      <td>5.0 star rating</td>\n    </tr>\n    <tr>\n      <th>1</th>\n      <td>The Factory - Cafe With a Soul</td>\n      <td>12/2/2016 Listed in Date Night: Austin, Ambia...</td>\n      <td>4.0 star rating</td>\n    </tr>\n    <tr>\n      <th>2</th>\n      <td>The Factory - Cafe With a Soul</td>\n      <td>11/30/2016 1 check-in Listed in Brunch Spots ...</td>\n      <td>4.0 star rating</td>\n    </tr>\n    <tr>\n      <th>3</th>\n      <td>The Factory - Cafe With a Soul</td>\n      <td>11/25/2016 Very cool decor! Good drinks Nice ...</td>\n      <td>2.0 star rating</td>\n    </tr>\n    <tr>\n      <th>4</th>\n      <td>The Factory - Cafe With a Soul</td>\n      <td>12/3/2016 1 check-in They are located within ...</td>\n      <td>4.0 star rating</td>\n    </tr>\n  </tbody>\n</table>\n</div>"
     },
     "metadata": {},
     "execution_count": 7
    }
   ],
   "source": [
    "import pandas as pd\n",
    "\n",
    "url = \"https://raw.githubusercontent.com/LambdaSchool/DS-Unit-4-Sprint-1-NLP/main/module1-text-data/data/yelp_coffeeshop_review_data.csv\"\n",
    "\n",
    "shops = pd.read_csv(url)\n",
    "shops.head()"
   ]
  },
  {
   "cell_type": "code",
   "execution_count": 8,
   "metadata": {},
   "outputs": [
    {
     "output_type": "execute_result",
     "data": {
      "text/plain": "0    5.0\n1    4.0\n2    4.0\n3    2.0\n4    4.0\nName: star_rating, dtype: float64"
     },
     "metadata": {},
     "execution_count": 8
    }
   ],
   "source": [
    "# Start here \n",
    "# removing the extra words from the star rating\n",
    "shops['star_rating'] = shops['star_rating'].apply(lambda x: float(x.strip('star rating')))\n",
    "shops['star_rating'].head()\n",
    "\n"
   ]
  },
  {
   "cell_type": "code",
   "execution_count": 9,
   "metadata": {},
   "outputs": [
    {
     "output_type": "execute_result",
     "data": {
      "text/plain": "                  coffee_shop_name  \\\n0  The Factory - Cafe With a Soul    \n1  The Factory - Cafe With a Soul    \n2  The Factory - Cafe With a Soul    \n3  The Factory - Cafe With a Soul    \n4  The Factory - Cafe With a Soul    \n\n                                    full_review_text  star_rating review_date  \n0  1 check-in Love love loved the atmosphere! Eve...          5.0  11/25/2016  \n1  Listed in Date Night: Austin, Ambiance in Aust...          4.0   12/2/2016  \n2  1 check-in Listed in Brunch Spots I loved the ...          4.0  11/30/2016  \n3  Very cool decor! Good drinks Nice seating Howe...          2.0  11/25/2016  \n4  1 check-in They are located within the Northcr...          4.0   12/3/2016  ",
      "text/html": "<div>\n<style scoped>\n    .dataframe tbody tr th:only-of-type {\n        vertical-align: middle;\n    }\n\n    .dataframe tbody tr th {\n        vertical-align: top;\n    }\n\n    .dataframe thead th {\n        text-align: right;\n    }\n</style>\n<table border=\"1\" class=\"dataframe\">\n  <thead>\n    <tr style=\"text-align: right;\">\n      <th></th>\n      <th>coffee_shop_name</th>\n      <th>full_review_text</th>\n      <th>star_rating</th>\n      <th>review_date</th>\n    </tr>\n  </thead>\n  <tbody>\n    <tr>\n      <th>0</th>\n      <td>The Factory - Cafe With a Soul</td>\n      <td>1 check-in Love love loved the atmosphere! Eve...</td>\n      <td>5.0</td>\n      <td>11/25/2016</td>\n    </tr>\n    <tr>\n      <th>1</th>\n      <td>The Factory - Cafe With a Soul</td>\n      <td>Listed in Date Night: Austin, Ambiance in Aust...</td>\n      <td>4.0</td>\n      <td>12/2/2016</td>\n    </tr>\n    <tr>\n      <th>2</th>\n      <td>The Factory - Cafe With a Soul</td>\n      <td>1 check-in Listed in Brunch Spots I loved the ...</td>\n      <td>4.0</td>\n      <td>11/30/2016</td>\n    </tr>\n    <tr>\n      <th>3</th>\n      <td>The Factory - Cafe With a Soul</td>\n      <td>Very cool decor! Good drinks Nice seating Howe...</td>\n      <td>2.0</td>\n      <td>11/25/2016</td>\n    </tr>\n    <tr>\n      <th>4</th>\n      <td>The Factory - Cafe With a Soul</td>\n      <td>1 check-in They are located within the Northcr...</td>\n      <td>4.0</td>\n      <td>12/3/2016</td>\n    </tr>\n  </tbody>\n</table>\n</div>"
     },
     "metadata": {},
     "execution_count": 9
    }
   ],
   "source": [
    "# removing the data from the review and making it its own column\n",
    "\n",
    "shops['review_date'] = shops['full_review_text'].apply(lambda x: x.split()).apply(lambda x: x[0])\n",
    "shops['full_review_text'] = shops['full_review_text'].apply(lambda x: x.split()).apply(lambda x: x[1:]).apply(lambda x: ' '.join(x))\n",
    "shops.head()"
   ]
  },
  {
   "cell_type": "code",
   "execution_count": 10,
   "metadata": {},
   "outputs": [],
   "source": [
    "\"\"\"\n",
    "Import Statements\n",
    "\"\"\"\n",
    "\n",
    "# Base\n",
    "from collections import Counter\n",
    "import re\n",
    " \n",
    "import pandas as pd\n",
    "\n",
    "# Plotting\n",
    "import squarify\n",
    "import matplotlib.pyplot as plt\n",
    "import seaborn as sns\n",
    "\n",
    "# NLP Libraries\n",
    "import spacy\n",
    "from spacy.tokenizer import Tokenizer\n",
    "from nltk.stem import PorterStemmer\n",
    "\n",
    "nlp = spacy.load(\"en_core_web_lg\")"
   ]
  },
  {
   "cell_type": "code",
   "execution_count": 11,
   "metadata": {},
   "outputs": [],
   "source": [
    "from tqdm import tqdm\n",
    "tqdm.pandas()"
   ]
  },
  {
   "cell_type": "code",
   "execution_count": 12,
   "metadata": {},
   "outputs": [],
   "source": [
    "STOP_WORDS = ['check', 'coffee', 'place']\n"
   ]
  },
  {
   "cell_type": "code",
   "execution_count": 13,
   "metadata": {
    "tags": []
   },
   "outputs": [
    {
     "output_type": "stream",
     "name": "stderr",
     "text": "100%|██████████| 7616/7616 [16:44<00:00,  7.58it/s]\n"
    },
    {
     "output_type": "execute_result",
     "data": {
      "text/plain": "                  coffee_shop_name  \\\n0  The Factory - Cafe With a Soul    \n1  The Factory - Cafe With a Soul    \n2  The Factory - Cafe With a Soul    \n3  The Factory - Cafe With a Soul    \n4  The Factory - Cafe With a Soul    \n\n                                    full_review_text  star_rating review_date  \\\n0  1 check-in Love love loved the atmosphere! Eve...          5.0  11/25/2016   \n1  Listed in Date Night: Austin, Ambiance in Aust...          4.0   12/2/2016   \n2  1 check-in Listed in Brunch Spots I loved the ...          4.0  11/30/2016   \n3  Very cool decor! Good drinks Nice seating Howe...          2.0  11/25/2016   \n4  1 check-in They are located within the Northcr...          4.0   12/3/2016   \n\n                                              lemmas  \n0  [1, love, love, love, atmosphere, corner, shop...  \n1  [list, date, night, austin, ambiance, austin, ...  \n2  [1, list, brunch, spots, love, eclectic, homey...  \n3  [cool, decor, good, drink, nice, seating, over...  \n4  [1, locate, northcross, mall, shopping, center...  ",
      "text/html": "<div>\n<style scoped>\n    .dataframe tbody tr th:only-of-type {\n        vertical-align: middle;\n    }\n\n    .dataframe tbody tr th {\n        vertical-align: top;\n    }\n\n    .dataframe thead th {\n        text-align: right;\n    }\n</style>\n<table border=\"1\" class=\"dataframe\">\n  <thead>\n    <tr style=\"text-align: right;\">\n      <th></th>\n      <th>coffee_shop_name</th>\n      <th>full_review_text</th>\n      <th>star_rating</th>\n      <th>review_date</th>\n      <th>lemmas</th>\n    </tr>\n  </thead>\n  <tbody>\n    <tr>\n      <th>0</th>\n      <td>The Factory - Cafe With a Soul</td>\n      <td>1 check-in Love love loved the atmosphere! Eve...</td>\n      <td>5.0</td>\n      <td>11/25/2016</td>\n      <td>[1, love, love, love, atmosphere, corner, shop...</td>\n    </tr>\n    <tr>\n      <th>1</th>\n      <td>The Factory - Cafe With a Soul</td>\n      <td>Listed in Date Night: Austin, Ambiance in Aust...</td>\n      <td>4.0</td>\n      <td>12/2/2016</td>\n      <td>[list, date, night, austin, ambiance, austin, ...</td>\n    </tr>\n    <tr>\n      <th>2</th>\n      <td>The Factory - Cafe With a Soul</td>\n      <td>1 check-in Listed in Brunch Spots I loved the ...</td>\n      <td>4.0</td>\n      <td>11/30/2016</td>\n      <td>[1, list, brunch, spots, love, eclectic, homey...</td>\n    </tr>\n    <tr>\n      <th>3</th>\n      <td>The Factory - Cafe With a Soul</td>\n      <td>Very cool decor! Good drinks Nice seating Howe...</td>\n      <td>2.0</td>\n      <td>11/25/2016</td>\n      <td>[cool, decor, good, drink, nice, seating, over...</td>\n    </tr>\n    <tr>\n      <th>4</th>\n      <td>The Factory - Cafe With a Soul</td>\n      <td>1 check-in They are located within the Northcr...</td>\n      <td>4.0</td>\n      <td>12/3/2016</td>\n      <td>[1, locate, northcross, mall, shopping, center...</td>\n    </tr>\n  </tbody>\n</table>\n</div>"
     },
     "metadata": {},
     "execution_count": 13
    }
   ],
   "source": [
    "def get_lemmas(text):\n",
    "\n",
    "    lemmas = []\n",
    "    \n",
    "    doc = nlp(text)\n",
    "    \n",
    "    # Something goes here :P\n",
    "    for token in doc: \n",
    "        if ((token.is_stop == False) and (token.is_punct == False)) and (token.pos_ != 'PRON'):\n",
    "            if token.text not in STOP_WORDS:\n",
    "                lemmas.append(token.lemma_.lower())\n",
    "    \n",
    "    return lemmas\n",
    "\n",
    "shops['lemmas'] = shops['full_review_text'].progress_apply(get_lemmas)\n",
    "shops.head()"
   ]
  },
  {
   "cell_type": "markdown",
   "metadata": {},
   "source": [
    "## How do we want to analyze these coffee shop tokens? \n",
    "\n",
    "- Overall Word / Token Count\n",
    "- View Counts by Rating \n",
    "- *Hint:* a 'bad' coffee shops has a rating betweeen 1 & 3 based on the distribution of ratings. A 'good' coffee shop is a 4 or 5. "
   ]
  },
  {
   "cell_type": "code",
   "execution_count": 14,
   "metadata": {},
   "outputs": [],
   "source": [
    "# borrowing lecture code\n",
    "def count(docs):\n",
    "\n",
    "        word_counts = Counter()\n",
    "        appears_in = Counter()\n",
    "        \n",
    "        total_docs = len(docs)\n",
    "\n",
    "        for doc in docs:\n",
    "            word_counts.update(doc)\n",
    "            appears_in.update(set(doc))\n",
    "\n",
    "        temp = zip(word_counts.keys(), word_counts.values())\n",
    "        \n",
    "        wc = pd.DataFrame(temp, columns = ['word', 'count'])\n",
    "\n",
    "        wc['rank'] = wc['count'].rank(method='first', ascending=False)\n",
    "        total = wc['count'].sum()\n",
    "\n",
    "        wc['pct_total'] = wc['count'].apply(lambda x: x / total)\n",
    "        \n",
    "        wc = wc.sort_values(by='rank')\n",
    "        wc['cul_pct_total'] = wc['pct_total'].cumsum()\n",
    "\n",
    "        t2 = zip(appears_in.keys(), appears_in.values())\n",
    "        ac = pd.DataFrame(t2, columns=['word', 'appears_in'])\n",
    "        wc = ac.merge(wc, on='word')\n",
    "\n",
    "        wc['appears_in_pct'] = wc['appears_in'].apply(lambda x: x / total_docs)\n",
    "        \n",
    "        return wc.sort_values(by='rank')"
   ]
  },
  {
   "cell_type": "code",
   "execution_count": 15,
   "metadata": {},
   "outputs": [
    {
     "output_type": "execute_result",
     "data": {
      "text/plain": "         word  appears_in  count  rank  pct_total  cul_pct_total  \\\n147      good        3578   5363   1.0   0.015618       0.015618   \n62      great        2859   3959   2.0   0.011529       0.027147   \n140      like        2273   3379   3.0   0.009840       0.036987   \n395      come        1932   2638   4.0   0.007682       0.044670   \n479      time        1769   2395   5.0   0.006975       0.051644   \n24       love        1819   2385   6.0   0.006945       0.058590   \n33      drink        1638   2342   7.0   0.006820       0.065410   \n40     austin        1838   2341   8.0   0.006817       0.072227   \n10          1        2146   2251   9.0   0.006555       0.078783   \n23       shop        1646   2210  10.0   0.006436       0.085218   \n88        try        1674   2144  11.0   0.006244       0.091462   \n15      order        1449   2133  12.0   0.006212       0.097674   \n309      food        1419   1921  13.0   0.005594       0.103268   \n592      work        1486   1906  14.0   0.005551       0.108819   \n18        get        1467   1900  15.0   0.005533       0.114352   \n19      latte        1266   1883  16.0   0.005484       0.119835   \n42       nice        1509   1805  17.0   0.005256       0.125092   \n179  friendly        1635   1733  18.0   0.005047       0.130139   \n575    little        1243   1506  19.0   0.004386       0.134524   \n277       tea         805   1500  20.0   0.004368       0.138892   \n\n     appears_in_pct  \n147        0.469800  \n62         0.375394  \n140        0.298451  \n395        0.253676  \n479        0.232274  \n24         0.238839  \n33         0.215074  \n40         0.241334  \n10         0.281775  \n23         0.216124  \n88         0.219800  \n15         0.190257  \n309        0.186318  \n592        0.195116  \n18         0.192621  \n19         0.166229  \n42         0.198136  \n179        0.214680  \n575        0.163209  \n277        0.105699  ",
      "text/html": "<div>\n<style scoped>\n    .dataframe tbody tr th:only-of-type {\n        vertical-align: middle;\n    }\n\n    .dataframe tbody tr th {\n        vertical-align: top;\n    }\n\n    .dataframe thead th {\n        text-align: right;\n    }\n</style>\n<table border=\"1\" class=\"dataframe\">\n  <thead>\n    <tr style=\"text-align: right;\">\n      <th></th>\n      <th>word</th>\n      <th>appears_in</th>\n      <th>count</th>\n      <th>rank</th>\n      <th>pct_total</th>\n      <th>cul_pct_total</th>\n      <th>appears_in_pct</th>\n    </tr>\n  </thead>\n  <tbody>\n    <tr>\n      <th>147</th>\n      <td>good</td>\n      <td>3578</td>\n      <td>5363</td>\n      <td>1.0</td>\n      <td>0.015618</td>\n      <td>0.015618</td>\n      <td>0.469800</td>\n    </tr>\n    <tr>\n      <th>62</th>\n      <td>great</td>\n      <td>2859</td>\n      <td>3959</td>\n      <td>2.0</td>\n      <td>0.011529</td>\n      <td>0.027147</td>\n      <td>0.375394</td>\n    </tr>\n    <tr>\n      <th>140</th>\n      <td>like</td>\n      <td>2273</td>\n      <td>3379</td>\n      <td>3.0</td>\n      <td>0.009840</td>\n      <td>0.036987</td>\n      <td>0.298451</td>\n    </tr>\n    <tr>\n      <th>395</th>\n      <td>come</td>\n      <td>1932</td>\n      <td>2638</td>\n      <td>4.0</td>\n      <td>0.007682</td>\n      <td>0.044670</td>\n      <td>0.253676</td>\n    </tr>\n    <tr>\n      <th>479</th>\n      <td>time</td>\n      <td>1769</td>\n      <td>2395</td>\n      <td>5.0</td>\n      <td>0.006975</td>\n      <td>0.051644</td>\n      <td>0.232274</td>\n    </tr>\n    <tr>\n      <th>24</th>\n      <td>love</td>\n      <td>1819</td>\n      <td>2385</td>\n      <td>6.0</td>\n      <td>0.006945</td>\n      <td>0.058590</td>\n      <td>0.238839</td>\n    </tr>\n    <tr>\n      <th>33</th>\n      <td>drink</td>\n      <td>1638</td>\n      <td>2342</td>\n      <td>7.0</td>\n      <td>0.006820</td>\n      <td>0.065410</td>\n      <td>0.215074</td>\n    </tr>\n    <tr>\n      <th>40</th>\n      <td>austin</td>\n      <td>1838</td>\n      <td>2341</td>\n      <td>8.0</td>\n      <td>0.006817</td>\n      <td>0.072227</td>\n      <td>0.241334</td>\n    </tr>\n    <tr>\n      <th>10</th>\n      <td>1</td>\n      <td>2146</td>\n      <td>2251</td>\n      <td>9.0</td>\n      <td>0.006555</td>\n      <td>0.078783</td>\n      <td>0.281775</td>\n    </tr>\n    <tr>\n      <th>23</th>\n      <td>shop</td>\n      <td>1646</td>\n      <td>2210</td>\n      <td>10.0</td>\n      <td>0.006436</td>\n      <td>0.085218</td>\n      <td>0.216124</td>\n    </tr>\n    <tr>\n      <th>88</th>\n      <td>try</td>\n      <td>1674</td>\n      <td>2144</td>\n      <td>11.0</td>\n      <td>0.006244</td>\n      <td>0.091462</td>\n      <td>0.219800</td>\n    </tr>\n    <tr>\n      <th>15</th>\n      <td>order</td>\n      <td>1449</td>\n      <td>2133</td>\n      <td>12.0</td>\n      <td>0.006212</td>\n      <td>0.097674</td>\n      <td>0.190257</td>\n    </tr>\n    <tr>\n      <th>309</th>\n      <td>food</td>\n      <td>1419</td>\n      <td>1921</td>\n      <td>13.0</td>\n      <td>0.005594</td>\n      <td>0.103268</td>\n      <td>0.186318</td>\n    </tr>\n    <tr>\n      <th>592</th>\n      <td>work</td>\n      <td>1486</td>\n      <td>1906</td>\n      <td>14.0</td>\n      <td>0.005551</td>\n      <td>0.108819</td>\n      <td>0.195116</td>\n    </tr>\n    <tr>\n      <th>18</th>\n      <td>get</td>\n      <td>1467</td>\n      <td>1900</td>\n      <td>15.0</td>\n      <td>0.005533</td>\n      <td>0.114352</td>\n      <td>0.192621</td>\n    </tr>\n    <tr>\n      <th>19</th>\n      <td>latte</td>\n      <td>1266</td>\n      <td>1883</td>\n      <td>16.0</td>\n      <td>0.005484</td>\n      <td>0.119835</td>\n      <td>0.166229</td>\n    </tr>\n    <tr>\n      <th>42</th>\n      <td>nice</td>\n      <td>1509</td>\n      <td>1805</td>\n      <td>17.0</td>\n      <td>0.005256</td>\n      <td>0.125092</td>\n      <td>0.198136</td>\n    </tr>\n    <tr>\n      <th>179</th>\n      <td>friendly</td>\n      <td>1635</td>\n      <td>1733</td>\n      <td>18.0</td>\n      <td>0.005047</td>\n      <td>0.130139</td>\n      <td>0.214680</td>\n    </tr>\n    <tr>\n      <th>575</th>\n      <td>little</td>\n      <td>1243</td>\n      <td>1506</td>\n      <td>19.0</td>\n      <td>0.004386</td>\n      <td>0.134524</td>\n      <td>0.163209</td>\n    </tr>\n    <tr>\n      <th>277</th>\n      <td>tea</td>\n      <td>805</td>\n      <td>1500</td>\n      <td>20.0</td>\n      <td>0.004368</td>\n      <td>0.138892</td>\n      <td>0.105699</td>\n    </tr>\n  </tbody>\n</table>\n</div>"
     },
     "metadata": {},
     "execution_count": 15
    }
   ],
   "source": [
    "wc = count(shops['lemmas'])\n",
    "wc.head(20)"
   ]
  },
  {
   "cell_type": "code",
   "execution_count": 27,
   "metadata": {},
   "outputs": [
    {
     "output_type": "display_data",
     "data": {
      "text/plain": "<Figure size 432x288 with 1 Axes>",
      "image/png": "[encoded data removed]"
     },
     "metadata": {
      "needs_background": "light"
     }
    }
   ],
   "source": [
    "wc_top10 = wc[wc['rank'] <= 10]\n",
    "\n",
    "squarify.plot(sizes=wc_top10['appears_in_pct'], label=wc_top10['word'], alpha=.8 )\n",
    "plt.axis('off')\n",
    "plt.show()"
   ]
  },
  {
   "cell_type": "markdown",
   "metadata": {},
   "source": [
    "## Can visualize the words with the greatest difference in counts between 'good' & 'bad'?\n",
    "\n",
    "Couple Notes: \n",
    "- Rel. freq. instead of absolute counts b/c of different numbers of reviews\n",
    "- Only look at the top 5-10 words with the greatest differences\n"
   ]
  },
  {
   "cell_type": "code",
   "execution_count": 17,
   "metadata": {
    "tags": []
   },
   "outputs": [],
   "source": [
    "good_shops = shops[shops['star_rating'] >= 4.0]\n",
    "bad_shops = shops[shops['star_rating'] <4.0]\n",
    "\n",
    "wc_good = count(good_shops['lemmas'])\n",
    "wc_bad = count(bad_shops['lemmas'])"
   ]
  },
  {
   "cell_type": "code",
   "execution_count": 28,
   "metadata": {},
   "outputs": [
    {
     "output_type": "display_data",
     "data": {
      "text/plain": "<Figure size 432x288 with 1 Axes>",
      "image/png": "[encoded data removed]"
     },
     "metadata": {
      "needs_background": "light"
     }
    }
   ],
   "source": [
    "# visualizing top 10 words in good shops\n",
    "wc_good_top10 = wc_good[wc_good['rank'] <= 10]\n",
    "\n",
    "squarify.plot(sizes=wc_good_top10['appears_in_pct'], label=wc_good_top10['word'], alpha=.8 )\n",
    "plt.axis('off')\n",
    "plt.show()"
   ]
  },
  {
   "cell_type": "code",
   "execution_count": 29,
   "metadata": {},
   "outputs": [
    {
     "output_type": "display_data",
     "data": {
      "text/plain": "<Figure size 432x288 with 1 Axes>",
      "image/png": "[encoded data removed]"
     },
     "metadata": {
      "needs_background": "light"
     }
    }
   ],
   "source": [
    "# visualizing top 10 words in bad shops\n",
    "wc_bad_top10 = wc_bad[wc_bad['rank'] <= 10]\n",
    "\n",
    "squarify.plot(sizes=wc_bad_top10['appears_in_pct'], label=wc_bad_top10['word'], alpha=.8 )\n",
    "plt.axis('off')\n",
    "plt.show()"
   ]
  },
  {
   "cell_type": "code",
   "execution_count": 30,
   "metadata": {
    "tags": []
   },
   "outputs": [
    {
     "output_type": "execute_result",
     "data": {
      "text/plain": "          word              difference\n1        great   [0.17318529699954982]\n22   delicious   [0.13459433454269396]\n5         love   [0.12061606772419517]\n17    friendly    [0.1082964787302596]\n7       austin   [0.08757448160800826]\n..         ...                     ...\n23     service  [-0.09388963922212512]\n135        bad  [-0.09400307195254362]\n96         ask  [-0.09840002471685955]\n11       order    [-0.127888120900753]\n2         like   [-0.1306670021097605]\n\n[14797 rows x 2 columns]",
      "text/html": "<div>\n<style scoped>\n    .dataframe tbody tr th:only-of-type {\n        vertical-align: middle;\n    }\n\n    .dataframe tbody tr th {\n        vertical-align: top;\n    }\n\n    .dataframe thead th {\n        text-align: right;\n    }\n</style>\n<table border=\"1\" class=\"dataframe\">\n  <thead>\n    <tr style=\"text-align: right;\">\n      <th></th>\n      <th>word</th>\n      <th>difference</th>\n    </tr>\n  </thead>\n  <tbody>\n    <tr>\n      <th>1</th>\n      <td>great</td>\n      <td>[0.17318529699954982]</td>\n    </tr>\n    <tr>\n      <th>22</th>\n      <td>delicious</td>\n      <td>[0.13459433454269396]</td>\n    </tr>\n    <tr>\n      <th>5</th>\n      <td>love</td>\n      <td>[0.12061606772419517]</td>\n    </tr>\n    <tr>\n      <th>17</th>\n      <td>friendly</td>\n      <td>[0.1082964787302596]</td>\n    </tr>\n    <tr>\n      <th>7</th>\n      <td>austin</td>\n      <td>[0.08757448160800826]</td>\n    </tr>\n    <tr>\n      <th>...</th>\n      <td>...</td>\n      <td>...</td>\n    </tr>\n    <tr>\n      <th>23</th>\n      <td>service</td>\n      <td>[-0.09388963922212512]</td>\n    </tr>\n    <tr>\n      <th>135</th>\n      <td>bad</td>\n      <td>[-0.09400307195254362]</td>\n    </tr>\n    <tr>\n      <th>96</th>\n      <td>ask</td>\n      <td>[-0.09840002471685955]</td>\n    </tr>\n    <tr>\n      <th>11</th>\n      <td>order</td>\n      <td>[-0.127888120900753]</td>\n    </tr>\n    <tr>\n      <th>2</th>\n      <td>like</td>\n      <td>[-0.1306670021097605]</td>\n    </tr>\n  </tbody>\n</table>\n<p>14797 rows × 2 columns</p>\n</div>"
     },
     "metadata": {},
     "execution_count": 30
    }
   ],
   "source": [
    "import sys\n",
    "\n",
    "# fixes an error of hitting max recursion depth\n",
    "sys.setrecursionlimit(10**6)\n",
    "\n",
    "# getting the difference between its percentage in the good list and percentage in the bad list\n",
    "total_word_list = wc['word'].to_list()\n",
    "good_word_list = wc_good['word'].to_list()\n",
    "bad_word_list = wc_bad['word'].to_list()\n",
    "\n",
    "difference_list = []\n",
    "for word in total_word_list:\n",
    "    if word in good_word_list:\n",
    "        percentage_in_good = wc_good[wc_good['word'] == word]['appears_in_pct'].values\n",
    "    else:\n",
    "        percentage_in_good = 0\n",
    "    \n",
    "    if word in bad_word_list:\n",
    "        percentage_in_bad = wc_bad[wc_bad['word'] == word]['appears_in_pct'].values\n",
    "    else:\n",
    "        percentage_in_bad = 0\n",
    "    \n",
    "    difference = percentage_in_good - percentage_in_bad\n",
    "    difference_list.append(difference)\n",
    "\n",
    "# creating a df\n",
    "word_differences = pd.DataFrame(data={'word': total_word_list, 'difference': difference_list})\n",
    "word_differences.sort_values(by=['difference'], ascending=False)"
   ]
  },
  {
   "cell_type": "markdown",
   "metadata": {},
   "source": [
    "Not surprising the best reviews contained the words: great, delicious, love friendly. The higher rated restaurants were less likely to have reviews that contained the words: service, bad, ask, order and like.\n",
    "\n",
    "It is interesting that the word like appeared far more in bad reviews than good reviews."
   ]
  },
  {
   "cell_type": "code",
   "execution_count": null,
   "metadata": {
    "colab_type": "text",
    "id": "1dCb1q8XphcP",
    "toc-hr-collapsed": true
   },
   "outputs": [],
   "source": [
    "## Stretch Goals\n",
    "\n",
    "* Analyze another corpus of documents - such as Indeed.com job listings ;).\n",
    "* Play with the Spacy API to\n",
    " - Extract Named Entities\n",
    " - Extracting 'noun chunks'\n",
    " - Attempt Document Classification with just Spacy\n",
    " - *Note:* This [course](https://course.spacy.io/) will be of interesting in helping you with these stretch goals. \n",
    "* Try to build a plotly dash app with your text data \n",
    "\n"
   ]
  }
 ],
 "metadata": {
  "colab": {
   "collapsed_sections": [],
   "name": "LS_DS_421_Text_Data_Assignment.ipynb",
   "provenance": [],
   "version": "0.3.2"
  },
  "kernelspec": {
   "display_name": "Python 3.8.3 64-bit ('ds-4-env': conda)",
   "language": "python",
   "name": "python38364bitds4envconda9f990165c5314df0b3b92daf6f09092c"
  },
  "language_info": {
   "codemirror_mode": {
    "name": "ipython",
    "version": 3
   },
   "file_extension": ".py",
   "mimetype": "text/x-python",
   "name": "python",
   "nbconvert_exporter": "python",
   "pygments_lexer": "ipython3",
   "version": "3.8.3-final"
  },
  "toc-autonumbering": false
 },
 "nbformat": 4,
 "nbformat_minor": 4
}