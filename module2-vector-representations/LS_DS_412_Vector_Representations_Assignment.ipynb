{
 "cells": [
  {
   "cell_type": "markdown",
   "metadata": {},
   "source": [
    "<img align=\"left\" src=\"https://lever-client-logos.s3.amazonaws.com/864372b1-534c-480e-acd5-9711f850815c-1524247202159.png\" width=200>\n",
    "<br></br>\n",
    "\n",
    "# Vector Representations\n",
    "## *Data Science Unit 4 Sprint 2 Assignment 2*"
   ]
  },
  {
   "cell_type": "code",
   "execution_count": 5,
   "metadata": {
    "colab": {
     "base_uri": "https://localhost:8080/",
     "height": 159
    },
    "colab_type": "code",
    "id": "hyj-f9FDcVFp",
    "outputId": "5dd045fe-6e4c-458c-e2fc-253c3da9c805"
   },
   "outputs": [],
   "source": [
    "import re\n",
    "import string\n",
    "\n",
    "from sklearn.feature_extraction.text import CountVectorizer, TfidfVectorizer\n",
    "import matplotlib.pyplot as plt\n",
    "import pandas as pd\n",
    "import numpy as np\n",
    "import spacy\n",
    "\n",
    "from bs4 import BeautifulSoup\n",
    "import requests\n",
    "\n",
    "import os"
   ]
  },
  {
   "cell_type": "markdown",
   "metadata": {
    "colab_type": "text",
    "id": "M7bcmqfGXrFG"
   },
   "source": [
    "## 1) *Clean:* Job Listings from indeed.com that contain the title \"Data Scientist\" \n",
    "\n",
    "You have `job_listings.csv` in the data folder for this module. The text data in the description column is still messy - full of html tags. Use the [BeautifulSoup](https://www.crummy.com/software/BeautifulSoup/bs4/doc/) library to clean up this column. You will need to read through the documentation to accomplish this task. "
   ]
  },
  {
   "cell_type": "code",
   "execution_count": 17,
   "metadata": {},
   "outputs": [],
   "source": [
    "pd.set_option('max_colwidth', None)"
   ]
  },
  {
   "cell_type": "code",
   "execution_count": 46,
   "metadata": {
    "colab": {},
    "colab_type": "code",
    "id": "KcYlc1URXhlC"
   },
   "outputs": [],
   "source": [
    "# importing data as a new dataframe\n",
    "DATA_PATH = os.path.join(os.path.dirname('__file__'), 'data', 'job_listings.csv')\n",
    "\n",
    "job_listings = pd.read_csv(DATA_PATH)\n",
    "\n",
    "\n",
    "\n",
    "                \n"
   ]
  },
  {
   "cell_type": "code",
   "execution_count": 43,
   "metadata": {},
   "outputs": [
    {
     "output_type": "execute_result",
     "data": {
      "text/plain": "                                                                                                                                                                                                                                                                                                                                                                                                                                                                                                                description  \\\n0                                                                                                                                                                                                                                                                                                                                                                                                                                                                                                                                                                                                                                                                                                                                                                                                                                                                                                                                                                                                                                                                                                                                                                                                                                                                                                                                                                                                                                                                                                                                                                                                                                                                                                                                                                                                                                                                                                                                                                                                                                                                                                                                                                                                                                                                                                                                                                                                                                                                                                                                                                                                                                                                                                                                                                                                                                                                                                                                                                                                                                                                                                                                                                                  job requirements conceptual understanding in machine learning models like naixc2xa8ve bayes kmeans svm apriori linear logistic regression neural random forests decision trees knn along with handson experience in at least 2 of them intermediate to expert level coding skills in pythonr ability to write functions clean and efficient data manipulation are mandatory for this role exposure to packages like numpy scipy pandas matplotlib etc in python or ggplot2 dplyr tidyr in r ability to communicate model findings to both technical and nontechnical stake holders hands on experience in sqlhive or similar programming language must show past work via github kaggle or any other published article masters degree in statisticsmathematicscomputer science or any other quant specific field apply now   \n1  job description  as a data scientist 1 you will help us build machine learning models data pipelines and microservices to help our clients navigate their healthcare journey you will do so by empowering and improving the next generation of accolade applications and user experiences a day in the lifexe2x80xa6 work with a small agile team to design and develop mobile applications in an iterative fashion work with a tightknit group of development team members in seattle contribute to best practices and help guide the future of our applications operates effectively as a collaborative member of the development team operates effectively as an individual for quick turnaround of enhancements and fixes responsible for meeting expectations and deliverables on time with high quality drive and implement new features within our mobile applications perform thorough manual testing and writing test cases that cover all areas identify new development toolsapproaches that will increase code quality efficiency and best practices develop and champion the the development processes coding style guidelines and architectural designs necessary to innovate and maintain great product quality effectively turns design documents and graphics into performant usable ui demonstrates creative technical and analytical skills demonstrates ability to communicate effectively in both technical and business environments  qualifications  what we are looking forxe2x80xa6 masterxe2x80x99s degree in computer science math or related field computer science fundamentals as illustrated through algorithm design problem solving and complexity analysis must have 1 year realworld experience developing and deploying microservices or data pipelines must have a fundamental understanding of key machine learning concepts such as accuracy measures crossvalidation and open source machine learning libraries fluent in python and sql proficient with writing unitfunctional tests and familiar with automation frameworks experience with cloud infrastructure such as aws or azure is a plus experience with distributed data pipelines such as a spark is a plus strong written and oral communication skills desire and willingness to work in an agile collaborative innovative flexible and teamoriented environment handson detailoriented methodical  inquisitive a motivated selfstarter with a solid level of experience that quickly grasps complex challenges a skillful communicator with experience working with technical management teams  a service oriented person who thinks customer first fast fail entrepreneurial spirit thrives in a fastpaced environment where continuous improvement is the norm and the bar for quality is extremely high excited by the challenges of working in a product team undergoing rapid international growth additional information  what is important to us creating an enduring company that is hyperfocused on our culture and making a meaningful impact in the lives of our employees members and customers the secret to our success is we find joy and purpose in serving others making a difference in our membersxe2x80x99 and customersxe2x80x99 lives is what we do even when itxe2x80x99s hard we do the right thing for the right reasons we are strong individually and together wexe2x80x99re powerful trusting in our colleagues and embracing their different backgrounds and experiences enable us to solve tough problems in creative ways having fun along the way we roll up our sleeves and get stuff done results motivate us and we arent afraid of the hard work or tough decisions needed to get us there wexe2x80x99re boldly and relentlessly reinventing healthcare were curious and act big  not afraid to knock down barriers or take calculated risks to change the world one person at a time all your information will be kept confidential according to eeo guidelines   \n2                                                                                                                                                                                                                                                                                                                                                                                                                                                                                                                                                                                                                                                                                                                                                                                                                                                                                                                                                                                                                                                                                                                                                                                                                                                                                                                                                                                                                                                                                                                                                                                                                                                                                                                                                                                                                                                                                                                                                                                                                                                                                                                                                                                                                                                                                                                                                                                                                                                                                                                                                                                                                                                                                                                                                                                                                                                                                                                                                                                                                                                                                                                                                      as a data scientist you will be working on consulting side of our business you will be responsible for analyzing large complex datasets and identify meaningful patterns that lead to actionable recommendations you will be performing thorough testing and validation of models and support various aspects of the business with data analytics ability to do statistical modeling build predictive models and leverage machine learning algorithms this position will combine the typical data scientist math and analytical skills with research advanced business communication and presentation skills primary job location is in sacramento but workfromhome option is available  qualifications bachelors ms or phd in a relevant field computer science engineering statistics physics applied math experience in r andor python is preferred   \n3                                                                                                                                                                                                                                                                                                                                                                                                                                                                                                                                                                                                                                                                                                                                                                                                                                                                                                                                                                                                                                                                                                                                                                                                                                                                                                                                                                                                                                                                                                                                                                                                                                                                                                                                                                                                                                                                                                                                                                                                                                                                                                                                                                                                                                                                4969  6756 a monthcontractunder the general supervision of professors dana mukamel and kai zheng the incumbent will join the calmhsa mental health tech suite innovation inn evaluation team this large statewide multiyear study will evaluate the effectiveness of two new and innovative applications offered to people with mental health conditions which include opportunities for online chatting between users and online listeners responsibilities of the incumbent will include managing and analyzing text data created by users of the two mental health applications as part of the research and evaluation objectives of the team the incumbent will collaborate with faculty and other team researchers and will be expected to create under supervision and direction variables describing the usage of the apps the interactions between users and the effectiveness of the apps the incumbent will also be expected to interact with the vendors of the apps around data issues  the university of california irvine is an equal opportunityaffirmative action employer advancing inclusive excellence all qualified applicants will receive consideration for employment without regard to race color religion sex sexual orientation gender identity national origin disability age protected veteran status or other protected categories covered by the uc nondiscrimination policy  salary monthly 496858  675583 total hours 85 mf contract position final candidate subject to background check as a federal contractor uc irvine is required to use everify to confirm the work status of individuals assigned to perform substantial work under certain federal contractssubcontracts  please attach your resume   \n4                                                                                                                                                                                                                                                                                                                                                                                                                                                                                                                                                                                                                                                                                                                                                                                                                                                                                                                                                                                                                                                                                                                                                                                                                                                                                                                                                                                                                                                                                                                                                                                                                                                                                                                                                                                                                                                                                                                                                                                                                                                                                                                                                                                                                                                                                                                                                                                                                                                                                                                                                                                                                                                                                                                                                                                                                                                                                                                                                                                                                                                                                                                                                                                                                                                                                                                                                                                                                                                                                                                                                                                                                                                                                                                                                                            location usa xe2x80x93 multiple locations 2 years of analytics experience understand business requirements and technical requirements can handle data extraction preparation and transformation create and implement data models   \n\n                          title  \n0               Data scientist   \n1              Data Scientist I  \n2  Data Scientist - Entry Level  \n3                Data Scientist  \n4                Data Scientist  ",
      "text/html": "<div>\n<style scoped>\n    .dataframe tbody tr th:only-of-type {\n        vertical-align: middle;\n    }\n\n    .dataframe tbody tr th {\n        vertical-align: top;\n    }\n\n    .dataframe thead th {\n        text-align: right;\n    }\n</style>\n<table border=\"1\" class=\"dataframe\">\n  <thead>\n    <tr style=\"text-align: right;\">\n      <th></th>\n      <th>Unnamed: 0</th>\n      <th>description</th>\n      <th>title</th>\n    </tr>\n  </thead>\n  <tbody>\n    <tr>\n      <th>0</th>\n      <td>0</td>\n      <td>job requirements conceptual understanding in machine learning models like naixc2xa8ve bayes kmeans svm apriori linear logistic regression neural random forests decision trees knn along with handson experience in at least 2 of them intermediate to expert level coding skills in pythonr ability to write functions clean and efficient data manipulation are mandatory for this role exposure to packages like numpy scipy pandas matplotlib etc in python or ggplot2 dplyr tidyr in r ability to communicate model findings to both technical and nontechnical stake holders hands on experience in sqlhive or similar programming language must show past work via github kaggle or any other published article masters degree in statisticsmathematicscomputer science or any other quant specific field apply now</td>\n      <td>Data scientist</td>\n    </tr>\n    <tr>\n      <th>1</th>\n      <td>1</td>\n      <td>job description  as a data scientist 1 you will help us build machine learning models data pipelines and microservices to help our clients navigate their healthcare journey you will do so by empowering and improving the next generation of accolade applications and user experiences a day in the lifexe2x80xa6 work with a small agile team to design and develop mobile applications in an iterative fashion work with a tightknit group of development team members in seattle contribute to best practices and help guide the future of our applications operates effectively as a collaborative member of the development team operates effectively as an individual for quick turnaround of enhancements and fixes responsible for meeting expectations and deliverables on time with high quality drive and implement new features within our mobile applications perform thorough manual testing and writing test cases that cover all areas identify new development toolsapproaches that will increase code quality efficiency and best practices develop and champion the the development processes coding style guidelines and architectural designs necessary to innovate and maintain great product quality effectively turns design documents and graphics into performant usable ui demonstrates creative technical and analytical skills demonstrates ability to communicate effectively in both technical and business environments  qualifications  what we are looking forxe2x80xa6 masterxe2x80x99s degree in computer science math or related field computer science fundamentals as illustrated through algorithm design problem solving and complexity analysis must have 1 year realworld experience developing and deploying microservices or data pipelines must have a fundamental understanding of key machine learning concepts such as accuracy measures crossvalidation and open source machine learning libraries fluent in python and sql proficient with writing unitfunctional tests and familiar with automation frameworks experience with cloud infrastructure such as aws or azure is a plus experience with distributed data pipelines such as a spark is a plus strong written and oral communication skills desire and willingness to work in an agile collaborative innovative flexible and teamoriented environment handson detailoriented methodical  inquisitive a motivated selfstarter with a solid level of experience that quickly grasps complex challenges a skillful communicator with experience working with technical management teams  a service oriented person who thinks customer first fast fail entrepreneurial spirit thrives in a fastpaced environment where continuous improvement is the norm and the bar for quality is extremely high excited by the challenges of working in a product team undergoing rapid international growth additional information  what is important to us creating an enduring company that is hyperfocused on our culture and making a meaningful impact in the lives of our employees members and customers the secret to our success is we find joy and purpose in serving others making a difference in our membersxe2x80x99 and customersxe2x80x99 lives is what we do even when itxe2x80x99s hard we do the right thing for the right reasons we are strong individually and together wexe2x80x99re powerful trusting in our colleagues and embracing their different backgrounds and experiences enable us to solve tough problems in creative ways having fun along the way we roll up our sleeves and get stuff done results motivate us and we arent afraid of the hard work or tough decisions needed to get us there wexe2x80x99re boldly and relentlessly reinventing healthcare were curious and act big  not afraid to knock down barriers or take calculated risks to change the world one person at a time all your information will be kept confidential according to eeo guidelines</td>\n      <td>Data Scientist I</td>\n    </tr>\n    <tr>\n      <th>2</th>\n      <td>2</td>\n      <td>as a data scientist you will be working on consulting side of our business you will be responsible for analyzing large complex datasets and identify meaningful patterns that lead to actionable recommendations you will be performing thorough testing and validation of models and support various aspects of the business with data analytics ability to do statistical modeling build predictive models and leverage machine learning algorithms this position will combine the typical data scientist math and analytical skills with research advanced business communication and presentation skills primary job location is in sacramento but workfromhome option is available  qualifications bachelors ms or phd in a relevant field computer science engineering statistics physics applied math experience in r andor python is preferred</td>\n      <td>Data Scientist - Entry Level</td>\n    </tr>\n    <tr>\n      <th>3</th>\n      <td>3</td>\n      <td>4969  6756 a monthcontractunder the general supervision of professors dana mukamel and kai zheng the incumbent will join the calmhsa mental health tech suite innovation inn evaluation team this large statewide multiyear study will evaluate the effectiveness of two new and innovative applications offered to people with mental health conditions which include opportunities for online chatting between users and online listeners responsibilities of the incumbent will include managing and analyzing text data created by users of the two mental health applications as part of the research and evaluation objectives of the team the incumbent will collaborate with faculty and other team researchers and will be expected to create under supervision and direction variables describing the usage of the apps the interactions between users and the effectiveness of the apps the incumbent will also be expected to interact with the vendors of the apps around data issues  the university of california irvine is an equal opportunityaffirmative action employer advancing inclusive excellence all qualified applicants will receive consideration for employment without regard to race color religion sex sexual orientation gender identity national origin disability age protected veteran status or other protected categories covered by the uc nondiscrimination policy  salary monthly 496858  675583 total hours 85 mf contract position final candidate subject to background check as a federal contractor uc irvine is required to use everify to confirm the work status of individuals assigned to perform substantial work under certain federal contractssubcontracts  please attach your resume</td>\n      <td>Data Scientist</td>\n    </tr>\n    <tr>\n      <th>4</th>\n      <td>4</td>\n      <td>location usa xe2x80x93 multiple locations 2 years of analytics experience understand business requirements and technical requirements can handle data extraction preparation and transformation create and implement data models</td>\n      <td>Data Scientist</td>\n    </tr>\n  </tbody>\n</table>\n</div>"
     },
     "metadata": {},
     "execution_count": 43
    }
   ],
   "source": [
    "def clean_html(text):\n",
    "    soup = BeautifulSoup(text, 'html.parser')\n",
    "    description = soup.get_text()\n",
    "    description = description.strip('b')\n",
    "    description = description.replace('\\\\n', ' ')\n",
    "    description = re.sub('[^a-zA-Z 0-9]', '', description)\n",
    "    description = description.lower()\n",
    "    \n",
    "    \n",
    "    return description\n",
    "\n",
    "job_listings['description'] = job_listings['description'].apply(clean_html)\n",
    "job_listings.head()"
   ]
  },
  {
   "cell_type": "markdown",
   "metadata": {
    "colab_type": "text",
    "id": "5C4xFZNtX1m2"
   },
   "source": [
    "## 2) Use Spacy to tokenize the listings "
   ]
  },
  {
   "cell_type": "code",
   "execution_count": null,
   "metadata": {
    "colab": {},
    "colab_type": "code",
    "id": "dhUHuMr-X-II"
   },
   "outputs": [],
   "source": [
    "##### Your Code Here #####\n",
    "raise Exception(\"\\nThis task is not complete. \\nReplace this line with your code for the task.\""
   ]
  },
  {
   "cell_type": "markdown",
   "metadata": {
    "colab_type": "text",
    "id": "-lgCZNL_YycP"
   },
   "source": [
    "## 3) Use Scikit-Learn's CountVectorizer to get word counts for each listing."
   ]
  },
  {
   "cell_type": "code",
   "execution_count": null,
   "metadata": {
    "colab": {},
    "colab_type": "code",
    "id": "X2PZ8Pj_YxcF"
   },
   "outputs": [],
   "source": [
    "##### Your Code Here #####\n",
    "raise Exception(\"\\nThis task is not complete. \\nReplace this line with your code for the task.\""
   ]
  },
  {
   "cell_type": "markdown",
   "metadata": {
    "colab_type": "text",
    "id": "Zo1iH_UeY7_n"
   },
   "source": [
    "## 4) Visualize the most common word counts"
   ]
  },
  {
   "cell_type": "code",
   "execution_count": null,
   "metadata": {
    "colab": {},
    "colab_type": "code",
    "id": "M5LB00uyZKV5"
   },
   "outputs": [],
   "source": [
    "##### Your Code Here #####\n",
    "raise Exception(\"\\nThis task is not complete. \\nReplace this line with your code for the task.\""
   ]
  },
  {
   "cell_type": "markdown",
   "metadata": {
    "colab_type": "text",
    "id": "bwFsTqrVZMYi"
   },
   "source": [
    "## 5) Use Scikit-Learn's tfidfVectorizer to get a TF-IDF feature matrix"
   ]
  },
  {
   "cell_type": "code",
   "execution_count": null,
   "metadata": {
    "colab": {},
    "colab_type": "code",
    "id": "-gx2gZCbl5Np"
   },
   "outputs": [],
   "source": [
    "##### Your Code Here #####\n",
    "raise Exception(\"\\nThis task is not complete. \\nReplace this line with your code for the task.\""
   ]
  },
  {
   "cell_type": "markdown",
   "metadata": {},
   "source": [
    "## 6) Create a NearestNeighbor Model. Write the description of your ideal datascience job and query your job listings. "
   ]
  },
  {
   "cell_type": "code",
   "execution_count": null,
   "metadata": {
    "collapsed": false,
    "inputHidden": false,
    "jupyter": {
     "outputs_hidden": false
    },
    "outputHidden": false
   },
   "outputs": [],
   "source": [
    "##### Your Code Here #####\n",
    "raise Exception(\"\\nThis task is not complete. \\nReplace this line with your code for the task.\""
   ]
  },
  {
   "cell_type": "markdown",
   "metadata": {
    "colab_type": "text",
    "id": "FiDfTWceoRkH"
   },
   "source": [
    "## Stretch Goals\n",
    "\n",
    " - Try different visualizations for words and frequencies - what story do you want to tell with the data?\n",
    " - Scrape Job Listings for the job title \"Data Analyst\". How do these differ from Data Scientist Job Listings\n",
    " - Try and identify requirements for experience specific technologies that are asked for in the job listings. How are those distributed among the job listings?\n",
    " - Use a clustering algorithm to cluster documents by their most important terms. Do the clusters reveal any common themes?\n",
    "  - **Hint:** K-means might not be the best algorithm for this. Do a little bit of research to see what might be good for this. Also, remember that algorithms that depend on Euclidean distance break down with high dimensional data.\n",
    " - Create a labeled dataset - which jobs will you apply for? Train a model to select the jobs you are most likely to apply for. :) "
   ]
  }
 ],
 "metadata": {
  "colab": {
   "collapsed_sections": [],
   "name": "LS_DS_422_BOW_Assignment.ipynb",
   "provenance": [],
   "version": "0.3.2"
  },
  "kernel_info": {
   "name": "python3"
  },
  "kernelspec": {
   "display_name": "Python 3.8.3 64-bit ('ds-4-env': conda)",
   "language": "python",
   "name": "python38364bitds4envconda9f990165c5314df0b3b92daf6f09092c"
  },
  "language_info": {
   "codemirror_mode": {
    "name": "ipython",
    "version": 3
   },
   "file_extension": ".py",
   "mimetype": "text/x-python",
   "name": "python",
   "nbconvert_exporter": "python",
   "pygments_lexer": "ipython3",
   "version": "3.8.3-final"
  },
  "nteract": {
   "version": "0.14.3"
  }
 },
 "nbformat": 4,
 "nbformat_minor": 4
}